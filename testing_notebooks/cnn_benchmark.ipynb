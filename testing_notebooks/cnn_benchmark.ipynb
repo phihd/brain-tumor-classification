{
 "cells": [
  {
   "cell_type": "code",
   "execution_count": 104,
   "metadata": {},
   "outputs": [],
   "source": [
    "import numpy as np\n",
    "import pandas as pd \n",
    "import tensorflow as tf\n",
    "from tensorflow.keras.preprocessing.image import ImageDataGenerator\n",
    "from sklearn.model_selection import train_test_split\n",
    "import os\n",
    "import cv2 as cv\n",
    "import seaborn as sns\n",
    "import warnings\n",
    "warnings.filterwarnings('ignore')\n",
    "import matplotlib.pyplot as plt"
   ]
  },
  {
   "cell_type": "code",
   "execution_count": 86,
   "metadata": {},
   "outputs": [],
   "source": [
    "root_path = os.path.dirname(os.getcwd())\n",
    "data_path = os.path.join(root_path, \"brain_tumor_44_classes\")"
   ]
  },
  {
   "cell_type": "code",
   "execution_count": 87,
   "metadata": {},
   "outputs": [
    {
     "name": "stderr",
     "output_type": "stream",
     "text": [
      "Copying files: 4479 files [00:05, 771.18 files/s]\n"
     ]
    }
   ],
   "source": [
    "import splitfolders\n",
    "splitfolders.ratio(data_path, output=\"output\", seed=1337, ratio=(.8, 0.1,0.1))"
   ]
  },
  {
   "cell_type": "code",
   "execution_count": 88,
   "metadata": {},
   "outputs": [
    {
     "name": "stdout",
     "output_type": "stream",
     "text": [
      "Found 3564 images belonging to 44 classes.\n"
     ]
    }
   ],
   "source": [
    "train_generate = ImageDataGenerator(horizontal_flip=True,\n",
    "                                    zoom_range=0.2,\n",
    "                                    shear_range=0.2 , \n",
    "                                    rescale=1.0/255 )\n",
    "train_set = train_generate.flow_from_directory(\"output/train/\",\n",
    "                                              target_size=(64, 64),\n",
    "                                              class_mode='categorical',\n",
    "                                               batch_size=32)\n",
    "train_set_lables = train_set.classes"
   ]
  },
  {
   "cell_type": "code",
   "execution_count": 89,
   "metadata": {},
   "outputs": [
    {
     "name": "stdout",
     "output_type": "stream",
     "text": [
      "Found 484 images belonging to 44 classes.\n"
     ]
    }
   ],
   "source": [
    "test_generate = ImageDataGenerator(rescale=1.0/255)\n",
    "test_set = train_generate.flow_from_directory(\"output/test//\",\n",
    "                                              target_size=(64, 64),\n",
    "                                              class_mode='categorical',\n",
    "                                               batch_size=32)\n",
    "test_set_lables = test_set.classes"
   ]
  },
  {
   "cell_type": "code",
   "execution_count": 90,
   "metadata": {},
   "outputs": [
    {
     "name": "stdout",
     "output_type": "stream",
     "text": [
      "Found 430 images belonging to 44 classes.\n"
     ]
    }
   ],
   "source": [
    "val_generate = ImageDataGenerator(rescale=1.0/255)\n",
    "val_set = train_generate.flow_from_directory(\"output/val//\",\n",
    "                                              target_size=(64, 64),\n",
    "                                              class_mode='categorical',\n",
    "                                               batch_size=32)\n",
    "val_set_lables = val_set.classes"
   ]
  },
  {
   "cell_type": "code",
   "execution_count": 91,
   "metadata": {},
   "outputs": [],
   "source": [
    "CNN=tf.keras.models.Sequential()"
   ]
  },
  {
   "cell_type": "code",
   "execution_count": 92,
   "metadata": {},
   "outputs": [],
   "source": [
    "CNN.add(tf.keras.layers.Conv2D(filters=32,\n",
    "                              kernel_size=(3,3),\n",
    "                               activation=\"relu\",\n",
    "                               input_shape=[64,64,3]))"
   ]
  },
  {
   "cell_type": "code",
   "execution_count": 93,
   "metadata": {},
   "outputs": [],
   "source": [
    "CNN.add(tf.keras.layers.MaxPool2D(pool_size=(2,2),\n",
    "                                  strides=2))"
   ]
  },
  {
   "cell_type": "code",
   "execution_count": 94,
   "metadata": {},
   "outputs": [],
   "source": [
    "CNN.add(tf.keras.layers.Conv2D(filters=32 ,\n",
    "                              kernel_size=(3,3),\n",
    "                               activation=\"relu\",\n",
    "                               input_shape=[64,64,3]))"
   ]
  },
  {
   "cell_type": "code",
   "execution_count": 95,
   "metadata": {},
   "outputs": [],
   "source": [
    "CNN.add(tf.keras.layers.MaxPool2D(pool_size=(2,2),\n",
    "                                  strides=2))"
   ]
  },
  {
   "cell_type": "code",
   "execution_count": 96,
   "metadata": {},
   "outputs": [],
   "source": [
    "CNN.add(tf.keras.layers.Flatten())"
   ]
  },
  {
   "cell_type": "code",
   "execution_count": 97,
   "metadata": {},
   "outputs": [],
   "source": [
    "CNN.add(tf.keras.layers.Dense(128, activation='relu'))\n",
    "CNN.add(tf.keras.layers.Dense(44, activation='softmax'))"
   ]
  },
  {
   "cell_type": "code",
   "execution_count": 98,
   "metadata": {},
   "outputs": [],
   "source": [
    "CNN.compile(optimizer=\"adam\",loss=\"categorical_crossentropy\" , metrics=[\"accuracy\"])"
   ]
  },
  {
   "cell_type": "code",
   "execution_count": 99,
   "metadata": {},
   "outputs": [
    {
     "name": "stdout",
     "output_type": "stream",
     "text": [
      "Epoch 1/27\n",
      "\u001b[1m112/112\u001b[0m \u001b[32m━━━━━━━━━━━━━━━━━━━━\u001b[0m\u001b[37m\u001b[0m \u001b[1m11s\u001b[0m 83ms/step - accuracy: 0.1097 - loss: 3.4304 - val_accuracy: 0.2512 - val_loss: 2.8033\n",
      "Epoch 2/27\n",
      "\u001b[1m112/112\u001b[0m \u001b[32m━━━━━━━━━━━━━━━━━━━━\u001b[0m\u001b[37m\u001b[0m \u001b[1m10s\u001b[0m 92ms/step - accuracy: 0.3145 - loss: 2.5824 - val_accuracy: 0.4372 - val_loss: 2.0975\n",
      "Epoch 3/27\n",
      "\u001b[1m112/112\u001b[0m \u001b[32m━━━━━━━━━━━━━━━━━━━━\u001b[0m\u001b[37m\u001b[0m \u001b[1m10s\u001b[0m 90ms/step - accuracy: 0.4773 - loss: 1.9801 - val_accuracy: 0.4535 - val_loss: 1.9556\n",
      "Epoch 4/27\n",
      "\u001b[1m112/112\u001b[0m \u001b[32m━━━━━━━━━━━━━━━━━━━━\u001b[0m\u001b[37m\u001b[0m \u001b[1m10s\u001b[0m 92ms/step - accuracy: 0.5601 - loss: 1.6105 - val_accuracy: 0.5163 - val_loss: 1.7669\n",
      "Epoch 5/27\n",
      "\u001b[1m112/112\u001b[0m \u001b[32m━━━━━━━━━━━━━━━━━━━━\u001b[0m\u001b[37m\u001b[0m \u001b[1m11s\u001b[0m 94ms/step - accuracy: 0.5785 - loss: 1.4391 - val_accuracy: 0.5465 - val_loss: 1.5878\n",
      "Epoch 6/27\n",
      "\u001b[1m112/112\u001b[0m \u001b[32m━━━━━━━━━━━━━━━━━━━━\u001b[0m\u001b[37m\u001b[0m \u001b[1m10s\u001b[0m 88ms/step - accuracy: 0.6362 - loss: 1.2843 - val_accuracy: 0.5698 - val_loss: 1.5661\n",
      "Epoch 7/27\n",
      "\u001b[1m112/112\u001b[0m \u001b[32m━━━━━━━━━━━━━━━━━━━━\u001b[0m\u001b[37m\u001b[0m \u001b[1m10s\u001b[0m 88ms/step - accuracy: 0.6657 - loss: 1.1714 - val_accuracy: 0.6116 - val_loss: 1.3842\n",
      "Epoch 8/27\n",
      "\u001b[1m112/112\u001b[0m \u001b[32m━━━━━━━━━━━━━━━━━━━━\u001b[0m\u001b[37m\u001b[0m \u001b[1m11s\u001b[0m 94ms/step - accuracy: 0.7196 - loss: 1.0002 - val_accuracy: 0.6302 - val_loss: 1.3978\n",
      "Epoch 9/27\n",
      "\u001b[1m112/112\u001b[0m \u001b[32m━━━━━━━━━━━━━━━━━━━━\u001b[0m\u001b[37m\u001b[0m \u001b[1m10s\u001b[0m 91ms/step - accuracy: 0.7271 - loss: 0.9324 - val_accuracy: 0.6372 - val_loss: 1.3107\n",
      "Epoch 10/27\n",
      "\u001b[1m112/112\u001b[0m \u001b[32m━━━━━━━━━━━━━━━━━━━━\u001b[0m\u001b[37m\u001b[0m \u001b[1m10s\u001b[0m 92ms/step - accuracy: 0.7595 - loss: 0.8521 - val_accuracy: 0.6651 - val_loss: 1.2509\n",
      "Epoch 11/27\n",
      "\u001b[1m112/112\u001b[0m \u001b[32m━━━━━━━━━━━━━━━━━━━━\u001b[0m\u001b[37m\u001b[0m \u001b[1m10s\u001b[0m 85ms/step - accuracy: 0.7813 - loss: 0.7580 - val_accuracy: 0.6721 - val_loss: 1.2177\n",
      "Epoch 12/27\n",
      "\u001b[1m112/112\u001b[0m \u001b[32m━━━━━━━━━━━━━━━━━━━━\u001b[0m\u001b[37m\u001b[0m \u001b[1m10s\u001b[0m 91ms/step - accuracy: 0.7829 - loss: 0.7228 - val_accuracy: 0.6674 - val_loss: 1.2308\n",
      "Epoch 13/27\n",
      "\u001b[1m112/112\u001b[0m \u001b[32m━━━━━━━━━━━━━━━━━━━━\u001b[0m\u001b[37m\u001b[0m \u001b[1m10s\u001b[0m 92ms/step - accuracy: 0.8170 - loss: 0.6260 - val_accuracy: 0.6860 - val_loss: 1.2644\n",
      "Epoch 14/27\n",
      "\u001b[1m112/112\u001b[0m \u001b[32m━━━━━━━━━━━━━━━━━━━━\u001b[0m\u001b[37m\u001b[0m \u001b[1m10s\u001b[0m 89ms/step - accuracy: 0.8088 - loss: 0.6084 - val_accuracy: 0.7163 - val_loss: 1.1059\n",
      "Epoch 15/27\n",
      "\u001b[1m112/112\u001b[0m \u001b[32m━━━━━━━━━━━━━━━━━━━━\u001b[0m\u001b[37m\u001b[0m \u001b[1m10s\u001b[0m 93ms/step - accuracy: 0.8361 - loss: 0.5481 - val_accuracy: 0.7256 - val_loss: 1.0173\n",
      "Epoch 16/27\n",
      "\u001b[1m112/112\u001b[0m \u001b[32m━━━━━━━━━━━━━━━━━━━━\u001b[0m\u001b[37m\u001b[0m \u001b[1m10s\u001b[0m 90ms/step - accuracy: 0.8511 - loss: 0.4985 - val_accuracy: 0.7302 - val_loss: 1.1134\n",
      "Epoch 17/27\n",
      "\u001b[1m112/112\u001b[0m \u001b[32m━━━━━━━━━━━━━━━━━━━━\u001b[0m\u001b[37m\u001b[0m \u001b[1m10s\u001b[0m 92ms/step - accuracy: 0.8689 - loss: 0.4476 - val_accuracy: 0.7209 - val_loss: 1.0663\n",
      "Epoch 18/27\n",
      "\u001b[1m112/112\u001b[0m \u001b[32m━━━━━━━━━━━━━━━━━━━━\u001b[0m\u001b[37m\u001b[0m \u001b[1m10s\u001b[0m 92ms/step - accuracy: 0.8689 - loss: 0.4490 - val_accuracy: 0.6930 - val_loss: 1.1375\n",
      "Epoch 19/27\n",
      "\u001b[1m112/112\u001b[0m \u001b[32m━━━━━━━━━━━━━━━━━━━━\u001b[0m\u001b[37m\u001b[0m \u001b[1m10s\u001b[0m 88ms/step - accuracy: 0.8732 - loss: 0.4324 - val_accuracy: 0.7209 - val_loss: 1.0207\n",
      "Epoch 20/27\n",
      "\u001b[1m112/112\u001b[0m \u001b[32m━━━━━━━━━━━━━━━━━━━━\u001b[0m\u001b[37m\u001b[0m \u001b[1m10s\u001b[0m 92ms/step - accuracy: 0.8992 - loss: 0.3278 - val_accuracy: 0.7605 - val_loss: 0.9442\n",
      "Epoch 21/27\n",
      "\u001b[1m112/112\u001b[0m \u001b[32m━━━━━━━━━━━━━━━━━━━━\u001b[0m\u001b[37m\u001b[0m \u001b[1m10s\u001b[0m 89ms/step - accuracy: 0.8893 - loss: 0.3545 - val_accuracy: 0.7419 - val_loss: 1.2071\n",
      "Epoch 22/27\n",
      "\u001b[1m112/112\u001b[0m \u001b[32m━━━━━━━━━━━━━━━━━━━━\u001b[0m\u001b[37m\u001b[0m \u001b[1m10s\u001b[0m 85ms/step - accuracy: 0.8815 - loss: 0.3792 - val_accuracy: 0.7605 - val_loss: 1.0562\n",
      "Epoch 23/27\n",
      "\u001b[1m112/112\u001b[0m \u001b[32m━━━━━━━━━━━━━━━━━━━━\u001b[0m\u001b[37m\u001b[0m \u001b[1m9s\u001b[0m 84ms/step - accuracy: 0.8943 - loss: 0.3302 - val_accuracy: 0.7581 - val_loss: 1.0030\n",
      "Epoch 24/27\n",
      "\u001b[1m112/112\u001b[0m \u001b[32m━━━━━━━━━━━━━━━━━━━━\u001b[0m\u001b[37m\u001b[0m \u001b[1m8s\u001b[0m 68ms/step - accuracy: 0.9055 - loss: 0.3010 - val_accuracy: 0.7698 - val_loss: 0.8826\n",
      "Epoch 25/27\n",
      "\u001b[1m112/112\u001b[0m \u001b[32m━━━━━━━━━━━━━━━━━━━━\u001b[0m\u001b[37m\u001b[0m \u001b[1m10s\u001b[0m 92ms/step - accuracy: 0.9197 - loss: 0.2756 - val_accuracy: 0.7837 - val_loss: 0.9860\n",
      "Epoch 26/27\n",
      "\u001b[1m112/112\u001b[0m \u001b[32m━━━━━━━━━━━━━━━━━━━━\u001b[0m\u001b[37m\u001b[0m \u001b[1m11s\u001b[0m 96ms/step - accuracy: 0.9155 - loss: 0.2888 - val_accuracy: 0.7791 - val_loss: 0.9325\n",
      "Epoch 27/27\n",
      "\u001b[1m112/112\u001b[0m \u001b[32m━━━━━━━━━━━━━━━━━━━━\u001b[0m\u001b[37m\u001b[0m \u001b[1m11s\u001b[0m 94ms/step - accuracy: 0.9185 - loss: 0.2473 - val_accuracy: 0.7488 - val_loss: 1.1748\n"
     ]
    }
   ],
   "source": [
    "history=CNN.fit(x=train_set ,\n",
    "        epochs=27,validation_data=val_set)"
   ]
  },
  {
   "cell_type": "code",
   "execution_count": 100,
   "metadata": {},
   "outputs": [
    {
     "data": {
      "text/plain": [
       "{'Astrocitoma T1': 0,\n",
       " 'Astrocitoma T1C+': 1,\n",
       " 'Astrocitoma T2': 2,\n",
       " 'Carcinoma T1': 3,\n",
       " 'Carcinoma T1C+': 4,\n",
       " 'Carcinoma T2': 5,\n",
       " 'Ependimoma T1': 6,\n",
       " 'Ependimoma T1C+': 7,\n",
       " 'Ependimoma T2': 8,\n",
       " 'Ganglioglioma T1': 9,\n",
       " 'Ganglioglioma T1C+': 10,\n",
       " 'Ganglioglioma T2': 11,\n",
       " 'Germinoma T1': 12,\n",
       " 'Germinoma T1C+': 13,\n",
       " 'Germinoma T2': 14,\n",
       " 'Glioblastoma T1': 15,\n",
       " 'Glioblastoma T1C+': 16,\n",
       " 'Glioblastoma T2': 17,\n",
       " 'Granuloma T1': 18,\n",
       " 'Granuloma T1C+': 19,\n",
       " 'Granuloma T2': 20,\n",
       " 'Meduloblastoma T1': 21,\n",
       " 'Meduloblastoma T1C+': 22,\n",
       " 'Meduloblastoma T2': 23,\n",
       " 'Meningioma T1': 24,\n",
       " 'Meningioma T1C+': 25,\n",
       " 'Meningioma T2': 26,\n",
       " 'Neurocitoma T1': 27,\n",
       " 'Neurocitoma T1C+': 28,\n",
       " 'Neurocitoma T2': 29,\n",
       " 'Oligodendroglioma T1': 30,\n",
       " 'Oligodendroglioma T1C+': 31,\n",
       " 'Oligodendroglioma T2': 32,\n",
       " 'Papiloma T1': 33,\n",
       " 'Papiloma T1C+': 34,\n",
       " 'Papiloma T2': 35,\n",
       " 'Schwannoma T1': 36,\n",
       " 'Schwannoma T1C+': 37,\n",
       " 'Schwannoma T2': 38,\n",
       " 'Tuberculoma T1': 39,\n",
       " 'Tuberculoma T1C+': 40,\n",
       " 'Tuberculoma T2': 41,\n",
       " '_NORMAL T1': 42,\n",
       " '_NORMAL T2': 43}"
      ]
     },
     "execution_count": 100,
     "metadata": {},
     "output_type": "execute_result"
    }
   ],
   "source": [
    "train_set.class_indices"
   ]
  },
  {
   "cell_type": "code",
   "execution_count": 105,
   "metadata": {},
   "outputs": [
    {
     "data": {
      "image/png": "[encoded data removed]",
      "text/plain": [
       "<Figure size 640x480 with 1 Axes>"
      ]
     },
     "metadata": {},
     "output_type": "display_data"
    }
   ],
   "source": [
    "acc = history.history['accuracy']\n",
    "val_acc = history.history['val_accuracy']\n",
    "loss = history.history['loss']\n",
    "val_loss = history.history['val_loss']\n",
    "plt.plot( acc, label='Training Accuracy')\n",
    "plt.plot( val_acc, label='Validation Accuracy')\n",
    "plt.title('Training and Validation Accuracy')\n",
    "plt.legend()\n",
    "plt.grid(False)"
   ]
  },
  {
   "cell_type": "code",
   "execution_count": 109,
   "metadata": {},
   "outputs": [],
   "source": [
    "true_classes = test_set.classes\n",
    "class_labels = list(test_set.class_indices.keys()) \n",
    "accuaracy=history.history[\"accuracy\"]\n",
    "loss=history.history[\"loss\"]\n",
    "val_loss = history.history[\"val_loss\"]\n",
    "val_accuracy = history.history[\"val_accuracy\"]"
   ]
  },
  {
   "cell_type": "code",
   "execution_count": 110,
   "metadata": {},
   "outputs": [
    {
     "data": {
      "text/html": [
       "<div>\n",
       "<style scoped>\n",
       "    .dataframe tbody tr th:only-of-type {\n",
       "        vertical-align: middle;\n",
       "    }\n",
       "\n",
       "    .dataframe tbody tr th {\n",
       "        vertical-align: top;\n",
       "    }\n",
       "\n",
       "    .dataframe thead th {\n",
       "        text-align: right;\n",
       "    }\n",
       "</style>\n",
       "<table border=\"1\" class=\"dataframe\">\n",
       "  <thead>\n",
       "    <tr style=\"text-align: right;\">\n",
       "      <th></th>\n",
       "      <th>accuaracy</th>\n",
       "      <th>loss</th>\n",
       "      <th>val_loss</th>\n",
       "      <th>val_accuracy</th>\n",
       "    </tr>\n",
       "  </thead>\n",
       "  <tbody>\n",
       "    <tr>\n",
       "      <th>0</th>\n",
       "      <td>0.158810</td>\n",
       "      <td>3.231386</td>\n",
       "      <td>2.803322</td>\n",
       "      <td>0.251163</td>\n",
       "    </tr>\n",
       "    <tr>\n",
       "      <th>1</th>\n",
       "      <td>0.345118</td>\n",
       "      <td>2.428246</td>\n",
       "      <td>2.097480</td>\n",
       "      <td>0.437209</td>\n",
       "    </tr>\n",
       "    <tr>\n",
       "      <th>2</th>\n",
       "      <td>0.481481</td>\n",
       "      <td>1.938079</td>\n",
       "      <td>1.955571</td>\n",
       "      <td>0.453488</td>\n",
       "    </tr>\n",
       "    <tr>\n",
       "      <th>3</th>\n",
       "      <td>0.554153</td>\n",
       "      <td>1.632646</td>\n",
       "      <td>1.766905</td>\n",
       "      <td>0.516279</td>\n",
       "    </tr>\n",
       "    <tr>\n",
       "      <th>4</th>\n",
       "      <td>0.597924</td>\n",
       "      <td>1.423900</td>\n",
       "      <td>1.587846</td>\n",
       "      <td>0.546512</td>\n",
       "    </tr>\n",
       "    <tr>\n",
       "      <th>5</th>\n",
       "      <td>0.636925</td>\n",
       "      <td>1.307733</td>\n",
       "      <td>1.566141</td>\n",
       "      <td>0.569767</td>\n",
       "    </tr>\n",
       "    <tr>\n",
       "      <th>6</th>\n",
       "      <td>0.677890</td>\n",
       "      <td>1.143236</td>\n",
       "      <td>1.384183</td>\n",
       "      <td>0.611628</td>\n",
       "    </tr>\n",
       "    <tr>\n",
       "      <th>7</th>\n",
       "      <td>0.710157</td>\n",
       "      <td>1.019654</td>\n",
       "      <td>1.397826</td>\n",
       "      <td>0.630233</td>\n",
       "    </tr>\n",
       "    <tr>\n",
       "      <th>8</th>\n",
       "      <td>0.731201</td>\n",
       "      <td>0.926881</td>\n",
       "      <td>1.310741</td>\n",
       "      <td>0.637209</td>\n",
       "    </tr>\n",
       "    <tr>\n",
       "      <th>9</th>\n",
       "      <td>0.751403</td>\n",
       "      <td>0.847032</td>\n",
       "      <td>1.250948</td>\n",
       "      <td>0.665116</td>\n",
       "    </tr>\n",
       "    <tr>\n",
       "      <th>10</th>\n",
       "      <td>0.781987</td>\n",
       "      <td>0.771494</td>\n",
       "      <td>1.217712</td>\n",
       "      <td>0.672093</td>\n",
       "    </tr>\n",
       "    <tr>\n",
       "      <th>11</th>\n",
       "      <td>0.789282</td>\n",
       "      <td>0.706938</td>\n",
       "      <td>1.230792</td>\n",
       "      <td>0.667442</td>\n",
       "    </tr>\n",
       "    <tr>\n",
       "      <th>12</th>\n",
       "      <td>0.814815</td>\n",
       "      <td>0.647982</td>\n",
       "      <td>1.264356</td>\n",
       "      <td>0.686047</td>\n",
       "    </tr>\n",
       "    <tr>\n",
       "      <th>13</th>\n",
       "      <td>0.814815</td>\n",
       "      <td>0.610472</td>\n",
       "      <td>1.105914</td>\n",
       "      <td>0.716279</td>\n",
       "    </tr>\n",
       "    <tr>\n",
       "      <th>14</th>\n",
       "      <td>0.838103</td>\n",
       "      <td>0.530116</td>\n",
       "      <td>1.017278</td>\n",
       "      <td>0.725581</td>\n",
       "    </tr>\n",
       "    <tr>\n",
       "      <th>15</th>\n",
       "      <td>0.840348</td>\n",
       "      <td>0.521656</td>\n",
       "      <td>1.113372</td>\n",
       "      <td>0.730233</td>\n",
       "    </tr>\n",
       "    <tr>\n",
       "      <th>16</th>\n",
       "      <td>0.868687</td>\n",
       "      <td>0.441146</td>\n",
       "      <td>1.066319</td>\n",
       "      <td>0.720930</td>\n",
       "    </tr>\n",
       "    <tr>\n",
       "      <th>17</th>\n",
       "      <td>0.859708</td>\n",
       "      <td>0.468805</td>\n",
       "      <td>1.137490</td>\n",
       "      <td>0.693023</td>\n",
       "    </tr>\n",
       "    <tr>\n",
       "      <th>18</th>\n",
       "      <td>0.877666</td>\n",
       "      <td>0.412694</td>\n",
       "      <td>1.020682</td>\n",
       "      <td>0.720930</td>\n",
       "    </tr>\n",
       "    <tr>\n",
       "      <th>19</th>\n",
       "      <td>0.891414</td>\n",
       "      <td>0.353101</td>\n",
       "      <td>0.944229</td>\n",
       "      <td>0.760465</td>\n",
       "    </tr>\n",
       "    <tr>\n",
       "      <th>20</th>\n",
       "      <td>0.886925</td>\n",
       "      <td>0.367072</td>\n",
       "      <td>1.207075</td>\n",
       "      <td>0.741860</td>\n",
       "    </tr>\n",
       "    <tr>\n",
       "      <th>21</th>\n",
       "      <td>0.884961</td>\n",
       "      <td>0.373230</td>\n",
       "      <td>1.056164</td>\n",
       "      <td>0.760465</td>\n",
       "    </tr>\n",
       "    <tr>\n",
       "      <th>22</th>\n",
       "      <td>0.898429</td>\n",
       "      <td>0.324445</td>\n",
       "      <td>1.003035</td>\n",
       "      <td>0.758140</td>\n",
       "    </tr>\n",
       "    <tr>\n",
       "      <th>23</th>\n",
       "      <td>0.898990</td>\n",
       "      <td>0.312531</td>\n",
       "      <td>0.882559</td>\n",
       "      <td>0.769767</td>\n",
       "    </tr>\n",
       "    <tr>\n",
       "      <th>24</th>\n",
       "      <td>0.913861</td>\n",
       "      <td>0.279677</td>\n",
       "      <td>0.985960</td>\n",
       "      <td>0.783721</td>\n",
       "    </tr>\n",
       "    <tr>\n",
       "      <th>25</th>\n",
       "      <td>0.911616</td>\n",
       "      <td>0.293327</td>\n",
       "      <td>0.932532</td>\n",
       "      <td>0.779070</td>\n",
       "    </tr>\n",
       "    <tr>\n",
       "      <th>26</th>\n",
       "      <td>0.920034</td>\n",
       "      <td>0.245604</td>\n",
       "      <td>1.174774</td>\n",
       "      <td>0.748837</td>\n",
       "    </tr>\n",
       "  </tbody>\n",
       "</table>\n",
       "</div>"
      ],
      "text/plain": [
       "    accuaracy      loss  val_loss  val_accuracy\n",
       "0    0.158810  3.231386  2.803322      0.251163\n",
       "1    0.345118  2.428246  2.097480      0.437209\n",
       "2    0.481481  1.938079  1.955571      0.453488\n",
       "3    0.554153  1.632646  1.766905      0.516279\n",
       "4    0.597924  1.423900  1.587846      0.546512\n",
       "5    0.636925  1.307733  1.566141      0.569767\n",
       "6    0.677890  1.143236  1.384183      0.611628\n",
       "7    0.710157  1.019654  1.397826      0.630233\n",
       "8    0.731201  0.926881  1.310741      0.637209\n",
       "9    0.751403  0.847032  1.250948      0.665116\n",
       "10   0.781987  0.771494  1.217712      0.672093\n",
       "11   0.789282  0.706938  1.230792      0.667442\n",
       "12   0.814815  0.647982  1.264356      0.686047\n",
       "13   0.814815  0.610472  1.105914      0.716279\n",
       "14   0.838103  0.530116  1.017278      0.725581\n",
       "15   0.840348  0.521656  1.113372      0.730233\n",
       "16   0.868687  0.441146  1.066319      0.720930\n",
       "17   0.859708  0.468805  1.137490      0.693023\n",
       "18   0.877666  0.412694  1.020682      0.720930\n",
       "19   0.891414  0.353101  0.944229      0.760465\n",
       "20   0.886925  0.367072  1.207075      0.741860\n",
       "21   0.884961  0.373230  1.056164      0.760465\n",
       "22   0.898429  0.324445  1.003035      0.758140\n",
       "23   0.898990  0.312531  0.882559      0.769767\n",
       "24   0.913861  0.279677  0.985960      0.783721\n",
       "25   0.911616  0.293327  0.932532      0.779070\n",
       "26   0.920034  0.245604  1.174774      0.748837"
      ]
     },
     "execution_count": 110,
     "metadata": {},
     "output_type": "execute_result"
    }
   ],
   "source": [
    "columns =[\"accuaracy\",\"loss\",\"val_loss\",\"val_accuracy\"]\n",
    "data = [accuaracy , loss , val_loss ,val_accuracy]\n",
    "data_frame = pd.DataFrame(data=data)\n",
    "data_frame = data_frame.transpose()\n",
    "data_frame.columns= columns\n",
    "data_frame"
   ]
  }
 ],
 "metadata": {
  "kernelspec": {
   "display_name": "venv",
   "language": "python",
   "name": "python3"
  },
  "language_info": {
   "codemirror_mode": {
    "name": "ipython",
    "version": 3
   },
   "file_extension": ".py",
   "mimetype": "text/x-python",
   "name": "python",
   "nbconvert_exporter": "python",
   "pygments_lexer": "ipython3",
   "version": "3.9.6"
  }
 },
 "nbformat": 4,
 "nbformat_minor": 2
}
